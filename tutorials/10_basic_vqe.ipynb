{
 "cells": [
  {
   "cell_type": "markdown",
   "id": "40f73387",
   "metadata": {},
   "source": [
    "# Basic mitigated VQE"
   ]
  },
  {
   "cell_type": "code",
   "execution_count": 1,
   "id": "59bf709a",
   "metadata": {
    "execution": {
     "iopub.execute_input": "2024-04-04T10:38:32.675711Z",
     "iopub.status.busy": "2024-04-04T10:38:32.675241Z",
     "iopub.status.idle": "2024-04-04T10:38:33.552773Z",
     "shell.execute_reply": "2024-04-04T10:38:33.552099Z"
    }
   },
   "outputs": [],
   "source": [
    "import numpy as np\n",
    "import scipy.optimize as opt\n",
    "from qiskit import *\n",
    "from qiskit.circuit.library import TwoLocal\n",
    "from qiskit_ibm_runtime.fake_provider import FakeAthens\n",
    "import mthree"
   ]
  },
  {
   "cell_type": "markdown",
   "id": "31ded95c",
   "metadata": {},
   "source": [
    "## Setup problem\n",
    "\n",
    "Here we define the Hamiltonian in terms of `(coefficient, operator string)` pairs, where the right-most element of the strings correspond to qubit 0."
   ]
  },
  {
   "cell_type": "code",
   "execution_count": 2,
   "id": "f3dc45e9",
   "metadata": {
    "execution": {
     "iopub.execute_input": "2024-04-04T10:38:33.555891Z",
     "iopub.status.busy": "2024-04-04T10:38:33.555403Z",
     "iopub.status.idle": "2024-04-04T10:38:33.558902Z",
     "shell.execute_reply": "2024-04-04T10:38:33.558375Z"
    }
   },
   "outputs": [],
   "source": [
    "H_op = [(0.39793742484318045, 'YZ'), (-0.39793742484318045, 'ZI'),\n",
    "       (-0.01128010425623538, 'ZZ'), (0.18093119978423156, 'XX')]"
   ]
  },
  {
   "cell_type": "markdown",
   "id": "defa8739",
   "metadata": {},
   "source": [
    "We also need to define our guess (ansatz) for the form of the target statevector:"
   ]
  },
  {
   "cell_type": "code",
   "execution_count": 3,
   "id": "778d9570",
   "metadata": {
    "execution": {
     "iopub.execute_input": "2024-04-04T10:38:33.561513Z",
     "iopub.status.busy": "2024-04-04T10:38:33.561112Z",
     "iopub.status.idle": "2024-04-04T10:38:33.564971Z",
     "shell.execute_reply": "2024-04-04T10:38:33.564364Z"
    }
   },
   "outputs": [],
   "source": [
    "ansatz = TwoLocal(2, rotation_blocks='ry', entanglement_blocks='cx')  "
   ]
  },
  {
   "cell_type": "markdown",
   "id": "645c8440",
   "metadata": {},
   "source": [
    "## Extract the needed data\n",
    "\n",
    "First we need an array of the coefficients, and a list of the operator strings."
   ]
  },
  {
   "cell_type": "code",
   "execution_count": 4,
   "id": "ab7470cc",
   "metadata": {
    "execution": {
     "iopub.execute_input": "2024-04-04T10:38:33.567536Z",
     "iopub.status.busy": "2024-04-04T10:38:33.567159Z",
     "iopub.status.idle": "2024-04-04T10:38:33.570596Z",
     "shell.execute_reply": "2024-04-04T10:38:33.570062Z"
    }
   },
   "outputs": [],
   "source": [
    "coeffs = np.array([item[0] for item in H_op], dtype=float)\n",
    "op_strings = [item[1] for item in H_op]"
   ]
  },
  {
   "cell_type": "markdown",
   "id": "9aafffdd",
   "metadata": {},
   "source": [
    "Next, we need to make circuits that perform the needed post-rotations needed for the measurements defined by the `op_strings`.  We need a function to do this:"
   ]
  },
  {
   "cell_type": "code",
   "execution_count": 5,
   "id": "f6910748",
   "metadata": {
    "execution": {
     "iopub.execute_input": "2024-04-04T10:38:33.572993Z",
     "iopub.status.busy": "2024-04-04T10:38:33.572618Z",
     "iopub.status.idle": "2024-04-04T10:38:33.577368Z",
     "shell.execute_reply": "2024-04-04T10:38:33.576843Z"
    }
   },
   "outputs": [],
   "source": [
    "def opstr_to_meas_circ(op_str):\n",
    "    \"\"\"Takes a list of operator strings and makes circuit with the correct post-rotations for measurements.\n",
    "    \n",
    "    Parameters:\n",
    "        op_str (list): List of strings representing the operators needed for measurements.\n",
    "        \n",
    "    Returns:\n",
    "        list: List of circuits for measurement post-rotations\n",
    "    \"\"\"\n",
    "    num_qubits = len(op_str[0])\n",
    "    circs = []\n",
    "    for op in op_str:\n",
    "        qc = QuantumCircuit(num_qubits)\n",
    "        for idx, item in enumerate(op):\n",
    "            if item == 'X':\n",
    "                qc.h(num_qubits-idx-1)\n",
    "            elif item == 'Y':\n",
    "                qc.sdg(num_qubits-idx-1)\n",
    "                qc.h(num_qubits-idx-1)\n",
    "        circs.append(qc)\n",
    "    return circs"
   ]
  },
  {
   "cell_type": "markdown",
   "id": "b504f2cd",
   "metadata": {},
   "source": [
    "Next we actual grab the measurement circuits:"
   ]
  },
  {
   "cell_type": "code",
   "execution_count": 6,
   "id": "436ad823",
   "metadata": {
    "execution": {
     "iopub.execute_input": "2024-04-04T10:38:33.579735Z",
     "iopub.status.busy": "2024-04-04T10:38:33.579360Z",
     "iopub.status.idle": "2024-04-04T10:38:33.582628Z",
     "shell.execute_reply": "2024-04-04T10:38:33.582062Z"
    }
   },
   "outputs": [],
   "source": [
    "meas_circs = opstr_to_meas_circ(op_strings)"
   ]
  },
  {
   "cell_type": "markdown",
   "id": "d91fbc72",
   "metadata": {},
   "source": [
    "Having both the ansatz and measurement circuits in hand we can now combine them and add measurements.  (Qiskit does not let us combine circuits with classical registers to ones that do not.  Thus we have to do things in a bit of an odd way here)"
   ]
  },
  {
   "cell_type": "code",
   "execution_count": 7,
   "id": "95553c66",
   "metadata": {
    "execution": {
     "iopub.execute_input": "2024-04-04T10:38:33.584949Z",
     "iopub.status.busy": "2024-04-04T10:38:33.584560Z",
     "iopub.status.idle": "2024-04-04T10:38:33.594962Z",
     "shell.execute_reply": "2024-04-04T10:38:33.594415Z"
    }
   },
   "outputs": [],
   "source": [
    "full_circs = [ansatz.compose(meas_circs[kk]).measure_all(inplace=False) for kk in range(len(meas_circs))]"
   ]
  },
  {
   "cell_type": "markdown",
   "id": "b76a4fc6",
   "metadata": {},
   "source": [
    "Lastly, we need the strings that will tell the expectation value function which diagonal operators to use.  Because we have added post-rotations to each circuit for the `X` and `Y` measurements, these strings need to be converted to `Z`:"
   ]
  },
  {
   "cell_type": "code",
   "execution_count": 8,
   "id": "62a5e3a1",
   "metadata": {
    "execution": {
     "iopub.execute_input": "2024-04-04T10:38:33.597380Z",
     "iopub.status.busy": "2024-04-04T10:38:33.597010Z",
     "iopub.status.idle": "2024-04-04T10:38:33.603867Z",
     "shell.execute_reply": "2024-04-04T10:38:33.603230Z"
    }
   },
   "outputs": [
    {
     "data": {
      "text/plain": [
       "['ZZ', 'ZI', 'ZZ', 'ZZ']"
      ]
     },
     "execution_count": 8,
     "metadata": {},
     "output_type": "execute_result"
    }
   ],
   "source": [
    "meas_strings = [string.replace('X', 'Z').replace('Y', 'Z') for string in op_strings]\n",
    "meas_strings"
   ]
  },
  {
   "cell_type": "markdown",
   "id": "a8a57780",
   "metadata": {},
   "source": [
    "## Run the problem"
   ]
  },
  {
   "cell_type": "markdown",
   "id": "d59c8e2e",
   "metadata": {},
   "source": [
    "First we need to set the backend, and compile the circuits for it:"
   ]
  },
  {
   "cell_type": "code",
   "execution_count": 9,
   "id": "a3894301",
   "metadata": {
    "execution": {
     "iopub.execute_input": "2024-04-04T10:38:33.606343Z",
     "iopub.status.busy": "2024-04-04T10:38:33.605934Z",
     "iopub.status.idle": "2024-04-04T10:38:33.943459Z",
     "shell.execute_reply": "2024-04-04T10:38:33.942610Z"
    }
   },
   "outputs": [],
   "source": [
    "backend = FakeAthens()\n",
    "trans_circs = transpile(full_circs, backend)"
   ]
  },
  {
   "cell_type": "markdown",
   "id": "71eee304",
   "metadata": {},
   "source": [
    "One example compield circuit is:"
   ]
  },
  {
   "cell_type": "code",
   "execution_count": 10,
   "id": "5cf88ecb",
   "metadata": {
    "execution": {
     "iopub.execute_input": "2024-04-04T10:38:33.947083Z",
     "iopub.status.busy": "2024-04-04T10:38:33.946554Z",
     "iopub.status.idle": "2024-04-04T10:38:35.004999Z",
     "shell.execute_reply": "2024-04-04T10:38:35.004427Z"
    }
   },
   "outputs": [
    {
     "data": {
      "image/png": "[encoded data removed]",
      "text/plain": [
       "<Figure size 2088.52x535.111 with 1 Axes>"
      ]
     },
     "execution_count": 10,
     "metadata": {},
     "output_type": "execute_result"
    }
   ],
   "source": [
    "trans_circs[0].draw('mpl')"
   ]
  },
  {
   "cell_type": "markdown",
   "id": "1c601fb7",
   "metadata": {},
   "source": [
    "We now need to set the starting point of the VQE iterations.  This means selecting a set of initial parameters to pass to the parameterized circuits.  Here we select ones close to a solution vector:"
   ]
  },
  {
   "cell_type": "code",
   "execution_count": 11,
   "id": "2fbb2377",
   "metadata": {
    "execution": {
     "iopub.execute_input": "2024-04-04T10:38:35.007812Z",
     "iopub.status.busy": "2024-04-04T10:38:35.007338Z",
     "iopub.status.idle": "2024-04-04T10:38:35.011719Z",
     "shell.execute_reply": "2024-04-04T10:38:35.011182Z"
    }
   },
   "outputs": [],
   "source": [
    "num_params = ansatz.num_parameters\n",
    "params = np.array([1.22253725, 0.39053752, 0.21462153, 5.48308027,\n",
    "                   2.06984514, 3.65227416, 4.01911194, 0.35749589])\n",
    "params += 0.05*(np.random.random(params.shape[0])-0.5)"
   ]
  },
  {
   "cell_type": "markdown",
   "id": "ebd97503",
   "metadata": {},
   "source": [
    "Now we are in a position to actually calibrate the M3 mitigator and run the algorithm:"
   ]
  },
  {
   "cell_type": "code",
   "execution_count": 12,
   "id": "c9d6bc03",
   "metadata": {
    "execution": {
     "iopub.execute_input": "2024-04-04T10:38:35.014178Z",
     "iopub.status.busy": "2024-04-04T10:38:35.013790Z",
     "iopub.status.idle": "2024-04-04T10:38:35.295222Z",
     "shell.execute_reply": "2024-04-04T10:38:35.294615Z"
    }
   },
   "outputs": [],
   "source": [
    "mit = mthree.M3Mitigation(backend)\n",
    "mit.cals_from_system([0,1])"
   ]
  },
  {
   "cell_type": "markdown",
   "id": "f8b9d4e5",
   "metadata": {},
   "source": [
    "The function used to actually compute the cost function (energy) is given as:"
   ]
  },
  {
   "cell_type": "code",
   "execution_count": 13,
   "id": "1310dff0",
   "metadata": {
    "execution": {
     "iopub.execute_input": "2024-04-04T10:38:35.298180Z",
     "iopub.status.busy": "2024-04-04T10:38:35.297975Z",
     "iopub.status.idle": "2024-04-04T10:38:35.302246Z",
     "shell.execute_reply": "2024-04-04T10:38:35.301675Z"
    }
   },
   "outputs": [],
   "source": [
    "def vqe_func(params, *args):\n",
    "    # Attach parameters to the transpiled circuit variables\n",
    "    bound_circs = [circ.assign_parameters(params) for circ in trans_circs]\n",
    "    # Submit the job and get the resultant counts back\n",
    "    counts = backend.run(bound_circs, shots=4096).result().get_counts()\n",
    "    # Apply mitigation to get quasi-probabilities\n",
    "    quasis = mit.apply_correction(counts, [0,1])\n",
    "    # Evaluate the coefficients times each expectation value obtained from quasi-probabilities and sum.\n",
    "    energy = np.sum(coeffs*quasis.expval(meas_strings))\n",
    "    return energy"
   ]
  },
  {
   "cell_type": "markdown",
   "id": "b8a4c3d5",
   "metadata": {},
   "source": [
    "Finally, we can now execute the VQE function using one of the solvers from SciPy, returning the solution for the minimum energy and the associated parameters:"
   ]
  },
  {
   "cell_type": "code",
   "execution_count": 14,
   "id": "b6a67663",
   "metadata": {
    "execution": {
     "iopub.execute_input": "2024-04-04T10:38:35.304807Z",
     "iopub.status.busy": "2024-04-04T10:38:35.304432Z",
     "iopub.status.idle": "2024-04-04T10:38:40.368537Z",
     "shell.execute_reply": "2024-04-04T10:38:40.367852Z"
    }
   },
   "outputs": [],
   "source": [
    "res = opt.minimize(vqe_func, params, method = 'COBYLA')"
   ]
  },
  {
   "cell_type": "code",
   "execution_count": 15,
   "id": "5ce74849",
   "metadata": {
    "execution": {
     "iopub.execute_input": "2024-04-04T10:38:40.371681Z",
     "iopub.status.busy": "2024-04-04T10:38:40.371287Z",
     "iopub.status.idle": "2024-04-04T10:38:40.375628Z",
     "shell.execute_reply": "2024-04-04T10:38:40.375003Z"
    }
   },
   "outputs": [
    {
     "name": "stdout",
     "output_type": "stream",
     "text": [
      "-0.4305841091070091\n",
      "[1.21872756 0.39098991 0.0844488  5.50804282 2.06782977 3.66448787\n",
      " 3.8761828  0.36396208]\n"
     ]
    }
   ],
   "source": [
    "print(res.fun)\n",
    "print(np.mod(res.x, 2*np.pi))"
   ]
  },
  {
   "cell_type": "markdown",
   "id": "b1a547b8",
   "metadata": {},
   "source": [
    "The optimal solution is around: `-0.44841884382998787`"
   ]
  },
  {
   "cell_type": "code",
   "execution_count": null,
   "id": "2ecb16a9",
   "metadata": {},
   "outputs": [],
   "source": []
  }
 ],
 "metadata": {
  "kernelspec": {
   "display_name": "Python 3",
   "language": "python",
   "name": "python3"
  },
  "language_info": {
   "codemirror_mode": {
    "name": "ipython",
    "version": 3
   },
   "file_extension": ".py",
   "mimetype": "text/x-python",
   "name": "python",
   "nbconvert_exporter": "python",
   "pygments_lexer": "ipython3",
   "version": "3.9.16"
  }
 },
 "nbformat": 4,
 "nbformat_minor": 5
}
